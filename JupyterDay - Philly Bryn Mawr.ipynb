{
 "cells": [
  {
   "cell_type": "markdown",
   "metadata": {
    "slideshow": {
     "slide_type": "slide"
    }
   },
   "source": [
    "<div align='left' style=\"width:800px;height:120px;overflow:hidden;\">\n",
    "<img align='left' style='display: block;height: 100%' src='imgs/insts.png' alt='logos' title='logos'/>\n",
    "</div>"
   ]
  },
  {
   "cell_type": "markdown",
   "metadata": {},
   "source": [
    "# Jupyter Notebooks in a\n",
    "# Computational Intelligence Class"
   ]
  },
  {
   "cell_type": "markdown",
   "metadata": {},
   "source": [
    "## [Luis Martí](http://lmarti.com)\n",
    "####  Co-Head of RIO Group - [Universidade Federal Fluminense](http://www.uff.br)\n",
    "####  [INRIA-Saclay](http://inria.fr) / LRI / Université Paris-Saclay.\n",
    "<br/>\n",
    "#### *#JupyterDayPhilly* - Byrn Mawr College, May 19th, 2017."
   ]
  },
  {
   "cell_type": "markdown",
   "metadata": {
    "slideshow": {
     "slide_type": "skip"
    }
   },
   "source": [
    "# Preliminaries\n",
    "\n",
    "* This tutorial is  _programmed_ as a [Jupyter](http://jupyter.org)/[IPython](https://ipython.org/) notebook.\n",
    "* See the `requirements.txt` file for a list of required libraries.\n",
    "* **Feel free to try them and experiment on your own by running the notebook.**"
   ]
  },
  {
   "cell_type": "markdown",
   "metadata": {
    "slideshow": {
     "slide_type": "skip"
    }
   },
   "source": [
    "* If you are using [nbviewer](http://nbviewer.jupyter.org) you can change to slides mode by clicking on the icon:\n",
    "\n",
    "<br/>\n",
    "<div class=\"container-fluid\">\n",
    "  <div class=\"row\">\n",
    "      <div class=\"col-md-2\"><span/></div>\n",
    "      <div class=\"col-md-8\">\n",
    "      <div class='well well-sm'>\n",
    "              <img src='figs/view-as-slides.png'/>\n",
    "      </div>\n",
    "      </div>\n",
    "      <div class=\"col-md-2\" align='center'><span/></div>\n",
    "  </div>\n",
    "</div>"
   ]
  },
  {
   "cell_type": "markdown",
   "metadata": {
    "slideshow": {
     "slide_type": "slide"
    }
   },
   "source": [
    "### XIII Brazilian Congress on\n",
    "### Computational Intelligence (CIBC 2017)\n",
    "<br/>\n",
    "<div class=\"container-fluid\">\n",
    "  <div class=\"row\">\n",
    "      <div class=\"col-md-2\"><span/></div>\n",
    "      <div class=\"col-md-8\">\n",
    "      <div class='well well-sm'>\n",
    "              <img src='imgs/cbic2017.png'/>\n",
    "      </div>\n",
    "      </div>\n",
    "      <div class=\"col-md-2\" align='center'><span/></div>\n",
    "  </div>\n",
    "</div>"
   ]
  },
  {
   "cell_type": "markdown",
   "metadata": {
    "slideshow": {
     "slide_type": "slide"
    }
   },
   "source": [
    "# About me\n",
    "<br>\n",
    "<center>**evolutionary computing - neural networks - machine learning**</center>\n",
    "\n",
    "* **2011:** PhD at **Universidad Carlos III de Madrid** (Spain).\n",
    "* **2012:** Research fellow at **T.U. Dortmund** (Germany).\n",
    "* **2013:** CNPq Young Talent of Science Fellow at **Pontifícia Universidade Católica do Rio de Janeiro** (PUC Rio, Brazil).\n",
    "* **2015:** Professor at **Universidade Federal Fluminense** (UFF, Brazil).\n",
    "* **2015:** Senior research fellow at TAO, **INRIA/Saclay - LRI - Uni. Paris-Saclay** (France)."
   ]
  },
  {
   "cell_type": "markdown",
   "metadata": {
    "slideshow": {
     "slide_type": "slide"
    }
   },
   "source": [
    "### What is this talk about?\n",
    "\n",
    "* Using Jupyter/IPython for teaching machine learning and computational intelligence.\n",
    "* Jupyter as an open science tool.\n",
    "\n",
    "### What is not about?\n",
    "\n",
    "* I will provide brief examples to illustrate using Jupyter in a machine learning class but not sufficient as to learn machine learning."
   ]
  },
  {
   "cell_type": "markdown",
   "metadata": {
    "slideshow": {
     "slide_type": "slide"
    }
   },
   "source": [
    "# open source $\\iff$ open science\n",
    "\n",
    "The scientific community has been pushing for an open science-based system:\n",
    "\n",
    "* For the scientific community: **Reproducible, replicable, verifiable and comparable results.**\n",
    "\n",
    "* For scientists: **Simplified dissemination and sharing.**\n",
    "\n",
    "* For partners and/or general public: **Ease of integration and understanding of results.**\n",
    "\n",
    "**Open science** without **open source (free) software** and **open data** is not \"really\" open."
   ]
  },
  {
   "cell_type": "markdown",
   "metadata": {
    "slideshow": {
     "slide_type": "slide"
    }
   },
   "source": [
    "<div align='center'><h1><i>Scripta volant, codex manent</i></h1></div>"
   ]
  },
  {
   "cell_type": "markdown",
   "metadata": {
    "collapsed": true,
    "slideshow": {
     "slide_type": "slide"
    }
   },
   "source": [
    "## Traditional workflow (2000's-ish)\n",
    "\n",
    "<br/>\n",
    "<div class=\"container-fluid\">\n",
    "  <div class=\"row\">\n",
    "      <div class=\"col-md-12\">\n",
    "      <img src='imgs/traditional.png'/>\n",
    "      </div>\n",
    "  </div>\n",
    "</div>"
   ]
  },
  {
   "cell_type": "markdown",
   "metadata": {
    "collapsed": true,
    "slideshow": {
     "slide_type": "slide"
    }
   },
   "source": [
    "## Python-based workflow\n",
    "\n",
    "<br/>\n",
    "<div class=\"container-fluid\">\n",
    "  <div class=\"row\">\n",
    "      <div class=\"col-md-12\">\n",
    "      <img src='imgs/python-stack.png'/>\n",
    "      </div>\n",
    "  </div>\n",
    "</div>"
   ]
  },
  {
   "cell_type": "markdown",
   "metadata": {
    "collapsed": true,
    "slideshow": {
     "slide_type": "slide"
    }
   },
   "source": [
    "## Jupyter/IPython-based science setup\n",
    "\n",
    "<br/>\n",
    "<div class=\"container-fluid\">\n",
    "  <div class=\"row\">\n",
    "      <div class=\"col-md-12\">\n",
    "      <img src='imgs/jupyter.png'/>\n",
    "      </div>\n",
    "  </div>\n",
    "</div>"
   ]
  },
  {
   "cell_type": "markdown",
   "metadata": {
    "slideshow": {
     "slide_type": "slide"
    }
   },
   "source": [
    "<div class=\"container-fluid\">\n",
    "  <div class=\"row\">\n",
    "      <div class=\"col-md-12\">\n",
    "      <img src='imgs/bull.png'/>\n",
    "      </div>\n",
    "  </div>\n",
    "</div>"
   ]
  },
  {
   "cell_type": "markdown",
   "metadata": {
    "collapsed": true,
    "slideshow": {
     "slide_type": "slide"
    }
   },
   "source": [
    "<div class=\"container-fluid\">\n",
    "  <div class=\"row\">\n",
    "      <div class=\"col-md-4\">\n",
    "        <img src='imgs/jupyter-logo.png' width='100%' align='center'/>\n",
    "      </div>\n",
    "      <div class=\"col-md-8\">\n",
    "        <ul>\n",
    "        <li> Language-agnostic web-based container.\n",
    "        <li> Platform independent.\n",
    "        <li> A computing systems interface.\n",
    "        <li> Kernels provide language support.\n",
    "        <li> Text (LaTeX), graphics, videos, interactive widgets.\n",
    "        <li> Extra functionality provided via extensions.\n",
    "        <li> Grown into an ecosystem -or constellation?- of tools: JupyterHub, nbgrader, binder, etc.\n",
    "        </ul>\n",
    "      </div>\n",
    "  </div>\n",
    "</div>"
   ]
  },
  {
   "cell_type": "markdown",
   "metadata": {
    "slideshow": {
     "slide_type": "slide"
    }
   },
   "source": [
    "## Why Python?\n",
    "<hr/>\n",
    "<div class=\"container-fluid\">\n",
    "  <div class=\"row\">\n",
    "      <div class=\"col-md-4\">\n",
    "        <img src='imgs/python.png' width='100%' align='center'/>\n",
    "      </div>\n",
    "      <div class=\"col-md-8\">\n",
    "        <ul>\n",
    "        <li> Dynamic type system,\n",
    "        <li> multi-paradigm: imperative, procedural, object-oriented, functional, literate,\n",
    "        <li> batteries included: `numpy`, `scipy`, `matplotlib`, `scikit-learn`, etc., and\n",
    "        <li> access to technologies: high-performance and cloud computing, GPUs, etc.\n",
    "         \n",
    "        </ul>\n",
    "        <center>**IPython**: Jupyter's Python kernel.</center>\n",
    "      </div>\n",
    "  </div>\n",
    "</div>"
   ]
  },
  {
   "cell_type": "markdown",
   "metadata": {
    "collapsed": true,
    "slideshow": {
     "slide_type": "slide"
    }
   },
   "source": [
    "# Bringing Jupyter  into the classroom"
   ]
  },
  {
   "cell_type": "markdown",
   "metadata": {
    "slideshow": {
     "slide_type": "slide"
    }
   },
   "source": [
    "<div align='center'>\n",
    "<h2>\n",
    "open source $\\iff$ open science $\\iff$ *'open class'*\n",
    "</h2>\n",
    "</div>"
   ]
  },
  {
   "cell_type": "markdown",
   "metadata": {
    "slideshow": {
     "slide_type": "slide"
    }
   },
   "source": [
    "# A bit of my teaching philosophy\n",
    "\n",
    "* Primary message: the topic to be taught.\n",
    "* Latent messages: \n",
    "    * be proactive, \n",
    "    * be inquisitive and curious,\n",
    "    * use the *scientific method*,\n",
    "    * be a citizen, **etc.**\n",
    "* Teach by *being* the example.\n",
    "* Jupyter looks like an ideal solution."
   ]
  },
  {
   "cell_type": "markdown",
   "metadata": {
    "collapsed": true,
    "slideshow": {
     "slide_type": "slide"
    }
   },
   "source": [
    "A machine learning/computational intelligence class with Jupyter:\n",
    "\n",
    "* Perfect for 'hackers' $\\rightarrow$ code is included and easily modifiable.\n",
    "* Perfect for '*hackophobics*' $\\rightarrow$ shows how complex ideas are programmed but with a low \"code impedance\".\n",
    "* *Take home and experiment on your own.*\n",
    "<br/>\n",
    "<center>**'Regular' slides forbidden!**</center>"
   ]
  },
  {
   "cell_type": "markdown",
   "metadata": {
    "slideshow": {
     "slide_type": "slide"
    }
   },
   "source": [
    "**2014:** Using Jupyter for seminar/practical classes\n",
    "\n",
    "PUC-Rio - **Advanced Evolutionary Computation: Theory and Practice**\n",
    "\n",
    "* Special topics (optional) course.\n",
    "* Seven Ph.D. students enrolled.\n",
    "* https://github.com/lmarti/evolutionary-computation-course\n",
    "\n"
   ]
  },
  {
   "cell_type": "markdown",
   "metadata": {
    "slideshow": {
     "slide_type": "slide"
    }
   },
   "source": [
    "Jupyter slides allow to keep under one roof all your content: slides, code examples and class notes."
   ]
  },
  {
   "cell_type": "markdown",
   "metadata": {
    "slideshow": {
     "slide_type": "-"
    }
   },
   "source": [
    "* Convert notebook to Reveal html slides:\n",
    "```bash\n",
    "$nbconvert --to slides My-cool-notebook.ipynb\n",
    "```\n",
    "...but this is not what you expect."
   ]
  },
  {
   "cell_type": "markdown",
   "metadata": {
    "slideshow": {
     "slide_type": "fragment"
    }
   },
   "source": [
    "I wanted **live** slides!\n",
    "\n",
    "* Damián Ávila's RISE: \"Live\" Reveal.js Jupyter/IPython Slideshow Extension https://github.com/damianavila/RISE"
   ]
  },
  {
   "cell_type": "markdown",
   "metadata": {
    "slideshow": {
     "slide_type": "slide"
    }
   },
   "source": [
    "**2014-2017:** Jupyter-centric seminars  \n",
    "\n",
    "**Evolutionary Multi-Objective Optimization**\n",
    "\n",
    "* https://github.com/lmarti/evolutionary-multiobjective-optimization\n",
    "* Invited seminars on evolutionary multi-objective optimization at different conferences and workshops.\n",
    "* Progressively improved and enriched."
   ]
  },
  {
   "cell_type": "markdown",
   "metadata": {
    "slideshow": {
     "slide_type": "slide"
    }
   },
   "source": [
    "**2016-2017:** Jupyter-centric classes \n",
    "\n",
    "UFF - **Machine Learning**\n",
    "\n",
    "* https://github.com/lmarti/machine-learning\n",
    "* Post-graduate (master and PhD).\n",
    "* Opened for undergrad students.\n",
    "\n",
    "|            | 2016.1   | 2016.2  | 2017.1  |\n",
    "| :--------  | :------: | :-----: | :-----: |\n",
    "| Grads      |    6     |  7      |  15     |\n",
    "| Undergrads |    1     |  2      |  17     |\n",
    "| **Total**  |    7     |  9      |  32     |"
   ]
  },
  {
   "cell_type": "markdown",
   "metadata": {
    "slideshow": {
     "slide_type": "slide"
    }
   },
   "source": [
    "**2017.2** (in the oven):\n",
    "    \n",
    "**Artificial Intelligence:** \n",
    "\n",
    "* Undergraduate course.\n",
    "* Current syllabus inspired by the Russell and Norvig book.\n",
    "* Updating it to current state of AI.\n",
    "* Got the department to dedicate IT guys to configure JupyterHub."
   ]
  },
  {
   "cell_type": "markdown",
   "metadata": {
    "collapsed": true,
    "slideshow": {
     "slide_type": "slide"
    }
   },
   "source": [
    "# Lessons learned (by me)\n",
    "\n",
    "* Online feedback loop from students to improve presentation.\n",
    "* Thrills and risks of going \"live\".\n",
    "* Jupyter and the related technologies are **still under development**.\n",
    "    * If something doesn't work when you try check again later.\n",
    "    * If something works it may break!"
   ]
  },
  {
   "cell_type": "markdown",
   "metadata": {
    "collapsed": true,
    "slideshow": {
     "slide_type": "slide"
    }
   },
   "source": [
    "## Fighting the 'hacking' impedance\n",
    "\n",
    "\n",
    "<div class=\"container-fluid\">\n",
    "  <div class=\"row\">\n",
    "      <div class=\"col-md-6\">\n",
    "        <img src='https://cloud.githubusercontent.com/assets/836375/15271096/98e4c102-19fe-11e6-999a-a74ffe6e2000.gif' width='65%' align='center'/>\n",
    "        <img src='imgs/binder.png' width='65%' align='center'/>\n",
    "      </div>\n",
    "      <div class=\"col-md-6\">\n",
    "        <img src='imgs/pycharm.png' width='38%' align='center'/>\n",
    "        <img src='imgs/hublogo.png' width='56%' align='center'/>\n",
    "      </div>\n",
    "  </div>\n",
    "</div>"
   ]
  },
  {
   "cell_type": "markdown",
   "metadata": {
    "slideshow": {
     "slide_type": "slide"
    }
   },
   "source": [
    "<div align='center'>\n",
    "<h2>Thank you! ¡Gracias! Obrigado!  Merci beaucoup!</h2>\n",
    "<br/>\n",
    "<h1>Questions?</h1>\n",
    "<br/>\n",
    "http://lmarti.com - https://github.com/lmarti -\n",
    "@iamluismarti\n",
    "</div>"
   ]
  },
  {
   "cell_type": "code",
   "execution_count": 3,
   "metadata": {
    "slideshow": {
     "slide_type": "skip"
    }
   },
   "outputs": [
    {
     "data": {
      "text/html": [
       "<link href=\"https://fonts.googleapis.com/css?family=Fira+Sans:300,300i,600,600i\" rel=\"stylesheet\">\n",
       "<link href=\"https://fonts.googleapis.com/css?family=Inconsolata\" rel=\"stylesheet\">\n",
       "<link href=\"https://fonts.googleapis.com/css?family=Titillium+Web:400,400i,700,700i\" rel=\"stylesheet\">\n",
       "<style>\n",
       ".text_cell_render {\n",
       "font-style: regular;\n",
       "font-family: 'Fira Sans', sans-serif;\n",
       "display: block;\n",
       "}\n",
       "/*font-weight: 200;*/\n",
       "/*text-align: left;\n",
       "line-height: 100%;\n",
       "display: block;\n",
       "}*/\n",
       ".text_cell_render h1 {\n",
       "/*font-size: 24pt;*/\n",
       "font-family: 'Titillium Web', sans-serif;\n",
       "font-weight: bold;\n",
       "margin-bottom: 0.1em;\n",
       "margin-top: 0.5em;\n",
       "color:#4a4a4a;\n",
       "}\n",
       "\n",
       ".reveal h1 {\n",
       "font-family: 'Titillium Web', sans-serif;\n",
       "/*font-size: 24pt;*/\n",
       "font-weight: bold;\n",
       "margin-bottom: 0.1em;\n",
       "margin-top: 0.5em;\n",
       "color:#4a4a4a;\n",
       "}\n",
       ".text_cell_render h2 {\n",
       "/*font-size: 21pt;*/\n",
       "    font-family: 'Titillium Web', sans-serif;\n",
       "margin-bottom: 0.1em;\n",
       "margin-top: 0.3em;\n",
       "color:#595959;\n",
       "}\n",
       ".text_cell_render h3 {\n",
       "    font-family: 'Titillium Web', sans-serif;\n",
       "/*font-size: 19pt;*/\n",
       "margin-bottom: 0.1em;\n",
       "margin-top: 0.3em;\n",
       "color:#595959;\n",
       "}\n",
       ".text_cell_render h4 {\n",
       "    font-family: 'Titillium Web', sans-serif;\n",
       "/*font-size: 17pt;*/\n",
       "margin-bottom: 0.1em;\n",
       "margin-top: 0.3em;\n",
       "color:#595959;\n",
       "}\n",
       ".text_cell_render h5 {\n",
       "    font-family: 'Titillium Web', sans-serif;\n",
       "/*font-size: 15pt;*/\n",
       "margin-bottom: 0.1em;\n",
       "margin-top: 0.3em;\n",
       "color:#595959;\n",
       "}\n",
       "div.text_cell_render{\n",
       "line-height: 120%;\n",
       "font-size: 100%;\n",
       "font-weight: 400;\n",
       "text-align: justify;\n",
       "margin-left:0em;\n",
       "margin-right:0em;\n",
       "}\n",
       ".reveal div.text_cell_render{\n",
       "line-height: 120%;\n",
       "font-size: 74%;\n",
       "font-weight: 400;\n",
       "text-align: justify;\n",
       "margin-left:0em;\n",
       "margin-right:0em;\n",
       "}\n",
       "\n",
       ".reveal h2 {\n",
       "font-family: 'Titillium Web', sans-serif;\n",
       "/*font-size: 24pt;*/\n",
       "font-weight: bold;\n",
       "margin-bottom: 0.1em;\n",
       "margin-top: 0.5em;\n",
       "color:#595959;\n",
       "}\n",
       ".reveal h3 {\n",
       "font-family: 'Titillium Web', sans-serif;\n",
       "/*font-size: 24pt;*/\n",
       "font-weight: bold;\n",
       "margin-bottom: 0.1em;\n",
       "margin-top: 0.5em;\n",
       "color:#595959;\n",
       "}\n",
       ".reveal h4 {\n",
       "font-family: 'Titillium Web', sans-serif;\n",
       "font-weight: bold;\n",
       "margin-bottom: 0.1em;\n",
       "margin-top: 0.5em;\n",
       "color:#595959;\n",
       "}\n",
       ".reveal .code_cell {\n",
       "    font-size: 83%;\n",
       "}\n",
       ".reveal code {\n",
       "font-family: 'Inconsolata', monospace;\n",
       "}\n",
       ".reveal pre {\n",
       "font-family: 'Inconsolata', monospace;\n",
       "}\n",
       "code {\n",
       "font-family: 'Inconsolata', monospace;\n",
       "}\n",
       "pre {\n",
       "font-family: 'Inconsolata', monospace;\n",
       "}\n",
       ".CodeMirror{\n",
       "font-family: \"Inconsolata\", monospace;\n",
       "}\n",
       "</style>\n"
      ],
      "text/plain": [
       "<IPython.core.display.HTML object>"
      ]
     },
     "execution_count": 3,
     "metadata": {},
     "output_type": "execute_result"
    }
   ],
   "source": [
    "# this code is here for cosmetic reasons\n",
    "from IPython.core.display import HTML\n",
    "from urllib.request import urlopen\n",
    "HTML(urlopen('https://raw.githubusercontent.com/lmarti/jupyter_custom/master/custom.include').read().decode('utf-8'))"
   ]
  },
  {
   "cell_type": "markdown",
   "metadata": {},
   "source": [
    "----"
   ]
  }
 ],
 "metadata": {
  "kernelspec": {
   "display_name": "Python 3",
   "language": "python",
   "name": "python3"
  },
  "language_info": {
   "codemirror_mode": {
    "name": "ipython",
    "version": 3
   },
   "file_extension": ".py",
   "mimetype": "text/x-python",
   "name": "python",
   "nbconvert_exporter": "python",
   "pygments_lexer": "ipython3",
   "version": "3.6.1"
  }
 },
 "nbformat": 4,
 "nbformat_minor": 2
}
